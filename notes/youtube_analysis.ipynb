{
 "cells": [
  {
   "cell_type": "code",
   "execution_count": 4,
   "id": "d9042d56-98e4-4ce4-a9ad-e383c7999b42",
   "metadata": {},
   "outputs": [],
   "source": [
    "import requests\n",
    "import json\n",
    "import os\n",
    "from dotenv import load_dotenv"
   ]
  },
  {
   "cell_type": "code",
   "execution_count": 5,
   "id": "1ad2903d-3805-4013-b744-709092e29460",
   "metadata": {},
   "outputs": [
    {
     "data": {
      "text/plain": [
       "True"
      ]
     },
     "execution_count": 5,
     "metadata": {},
     "output_type": "execute_result"
    }
   ],
   "source": [
    "load_dotenv()"
   ]
  },
  {
   "cell_type": "markdown",
   "id": "13b48490-f52e-4b81-ba8f-51e1247b557a",
   "metadata": {},
   "source": [
    "## Testlauf\n",
    "\n"
   ]
  },
  {
   "cell_type": "code",
   "execution_count": 6,
   "id": "e70b64e3-6002-4933-8c5e-17c29553b6c8",
   "metadata": {},
   "outputs": [],
   "source": [
    "URL = \"https://www.googleapis.com/youtube/v3/\"\n",
    "YOUTUBE_API_KEY = os.environ[\"YOUTUBE_DATA_API_KEY\"]\n",
    "video_id = \"UyCEpUe8uho\""
   ]
  },
  {
   "cell_type": "code",
   "execution_count": 7,
   "id": "b4753083-f36b-4a06-8872-f1945bdcc054",
   "metadata": {},
   "outputs": [],
   "source": [
    "params = {\n",
    "    \"key\": YOUTUBE_API_KEY,\n",
    "    \"part\": \"snippet\",\n",
    "    \"videoId\": video_id,\n",
    "    \"order\": \"relevance\",\n",
    "    \"textFormat\": \"plaintext\",\n",
    "    \"maxResults\": 100,\n",
    "  }"
   ]
  },
  {
   "cell_type": "code",
   "execution_count": 8,
   "id": "e7e06378-1edf-4520-9957-3b6e3217d5a4",
   "metadata": {},
   "outputs": [],
   "source": [
    "response = requests.get(URL + \"commentThreads\", params=params)\n",
    "res_json = response.json()\n",
    "\n"
   ]
  },
  {
   "cell_type": "code",
   "execution_count": null,
   "id": "8098d6a4-625e-4e4c-97c3-d59a5168694e",
   "metadata": {},
   "outputs": [],
   "source": [
    "for comment_info in res_json[\"items\"]:\n",
    "    # Kommentare\n",
    "    text = comment_info[\"snippet\"][\"topLevelComment\"][\"snippet\"][\"textDisplay\"]\n",
    "    comment = text.replace(\"\\r\", \"\\n\").replace(\"\\n\", \" \")\n",
    "    # Likes\n",
    "    like_cnt = comment_info[\"snippet\"][\"topLevelComment\"][\"snippet\"][\"likeCount\"]\n",
    "    # Replies\n",
    "    reply_cnt = comment_info[\"snippet\"][\"totalReplyCount\"]\n",
    "    # Username\n",
    "    user_name = comment_info[\"snippet\"][\"topLevelComment\"][\"snippet\"][\"authorDisplayName\"]\n",
    "    # ID\n",
    "    parentId = comment_info[\"snippet\"][\"topLevelComment\"][\"id\"]\n",
    "    print(f\"{comment}\\nLikes: {like_cnt}\\nUser Name: {user_name}\\nReply: {reply_cnt}\")"
   ]
  },
  {
   "cell_type": "markdown",
   "id": "a1445d94-00a8-4771-a83a-24bcf3150855",
   "metadata": {},
   "source": [
    "## Wie kann man die Kommentare in YouTube analysieren?\n",
    "\n",
    "Als Beispiel nehmen wir hier die Kommentare von YouTube-Kanäle von [AfD (Alternative für Deutschland)](https://www.youtube.com/@AfDTV), [CDU (Christlich Demokratische Union Deutschlands)](https://www.youtube.com/@cdutv) und [SPD (Sozialdemokratische Partei Deutschlands)](https://www.youtube.com/@spdde). \n",
    "\n",
    "Wir legen einen Stichtag fest, an dem mindestens ein Video in jedem Kanal publiziert ist. Wählen wir jeweils ein Video aus den 3 Kanäle aus und nehmen wir die Kommentare von den Videos. Danach lassen wir die Kommentare durch ChatGPT in 3 Stufen (Positiv, neutral, negativ) einstufen und das Ergebnis visualisieren. \n"
   ]
  },
  {
   "cell_type": "markdown",
   "id": "d79ff2bb-5ea3-4b73-a58c-30978201422d",
   "metadata": {},
   "source": []
  }
 ],
 "metadata": {
  "kernelspec": {
   "display_name": "Python 3 (ipykernel)",
   "language": "python",
   "name": "python3"
  },
  "language_info": {
   "codemirror_mode": {
    "name": "ipython",
    "version": 3
   },
   "file_extension": ".py",
   "mimetype": "text/x-python",
   "name": "python",
   "nbconvert_exporter": "python",
   "pygments_lexer": "ipython3",
   "version": "3.11.11"
  }
 },
 "nbformat": 4,
 "nbformat_minor": 5
}
